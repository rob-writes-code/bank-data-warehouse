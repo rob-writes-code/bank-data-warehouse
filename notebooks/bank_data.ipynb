{
 "cells": [
  {
   "cell_type": "markdown",
   "metadata": {},
   "source": [
    "# Banking Data Assessment\n",
    "\n",
    "Create a new warehouse and dashboard for the banking dataset.\n",
    "\n",
    "The banking data is currently held locally in csv format: `raw_banking.csv`.\n",
    "\n",
    "It has 10,000 rows of data."
   ]
  },
  {
   "cell_type": "markdown",
   "metadata": {},
   "source": [
    "## Docker Compose\n",
    "\n",
    "Using Docker Compose, the data is moved into a PostgreSQL database.\n",
    "\n",
    "In addition, containers for PGAdmin and Metabase are also created.\n",
    "\n",
    "- PGAdmin - management tool of Postgres.\n",
    "- Metabase - business intelligence, dashboards, and data visualization tools.\n",
    "\n",
    "See `docker_compose_warehouse` folder for config files."
   ]
  },
  {
   "cell_type": "markdown",
   "metadata": {},
   "source": [
    "![docker_compose](./screenshots/docker_compose.png)"
   ]
  },
  {
   "cell_type": "markdown",
   "metadata": {},
   "source": [
    "Data can now be viewed in PGAdmin, inside a Postgres database:"
   ]
  },
  {
   "cell_type": "markdown",
   "metadata": {},
   "source": [
    "![pgadmin4](./screenshots/pgadmin.png)"
   ]
  },
  {
   "cell_type": "markdown",
   "metadata": {},
   "source": [
    "## Data Build Tool (DBT)\n",
    "\n",
    "DBT is a way of managing the transformation of data inside a data warehouse - it's the 'T' in ETL.\n",
    "\n",
    "To install into the venv:\n",
    "\n",
    "`pip install dbt-postgres`\n",
    "\n",
    "Create the following config files inside your directory (see relevant files for more details):\n",
    "\n",
    "- `dbt_project.yml`\n",
    "- `profiles.yml` (kept separate for security reasons)\n",
    "\n",
    "Run `dbt debug` to verify installation and connection to the warehouse."
   ]
  },
  {
   "cell_type": "markdown",
   "metadata": {},
   "source": [
    "![dbt_debug](./screenshots/dbt_debug_connection.png)"
   ]
  },
  {
   "cell_type": "markdown",
   "metadata": {},
   "source": [
    "## The Assessment\n",
    "\n",
    "With DBT now setup, I can now consider what insights the business wishes to get from the data.\n",
    "\n",
    "Create a dashboard to answer the following questions about the data:\n",
    "\n",
    "1. How much money does the bank have? Add all customer balances.\n",
    "1. How much money do our customers make, check the estimate salary field.\n",
    "1. Most popular card.\n",
    "1. Figure out how to identify richer or poorer customers and which card type they have.\n",
    "1. Credit score, balance, satisfaction by country.\n",
    "1. Explore the data yourself and try to add some metrics and graphs of your own."
   ]
  },
  {
   "cell_type": "markdown",
   "metadata": {},
   "source": [
    "### Data Modelling\n",
    "\n",
    "First, I will separate the data into facts and dimensions tables from the raw dataset. This helps organise the data and is also an opportunity to remove any erroneus entries, such as null values and duplicates.\n",
    "\n",
    "I will then use these to create summary tables with which to build a metrics dashboard that answers the above questions.\n",
    "\n",
    "- `facts`: quantitative data points that represent the business metrics, such as revenue, profit, units sold, or any other key performance indicators.\n",
    "- `dimensions`: the descriptive attributes of the data, such as time, geography, product, customer, or any other relevant aspect of the business."
   ]
  },
  {
   "cell_type": "markdown",
   "metadata": {},
   "source": [
    "#### dimensions\n",
    "\n",
    "- customers: `customerid`, `surname`, `geography`, `gender`, `age`, `tenure`, `estimatedsalary`, `isactivemember`, `exited`, `complain`, `satisfactionscore`, `numofproducts`, `hascrcard`, `creditscore`\n",
    "\n",
    "#### facts\n",
    "\n",
    "- accounts: `cardtype`, `balance`, `pointearned`\n",
    "- join on `customerid`"
   ]
  },
  {
   "cell_type": "code",
   "execution_count": null,
   "metadata": {
    "vscode": {
     "languageId": "sql"
    }
   },
   "outputs": [],
   "source": [
    "--customers.sql--\n",
    "\n",
    "{{ config(\n",
    "    materialized = 'table',\n",
    ")}}\n",
    "\n",
    "SELECT\n",
    "    customerid,\n",
    "    surname,\n",
    "    gender,\n",
    "    age,\n",
    "    geography,\n",
    "    tenure,\n",
    "    estimatedsalary,\n",
    "    isactivemember,\n",
    "    exited,\n",
    "    complain,\n",
    "    satisfactionscore,\n",
    "    numofproducts,\n",
    "    hascrcard,\n",
    "    creditscore\n",
    "FROM {{ source(\"raw\", \"raw_banking\") }}"
   ]
  },
  {
   "cell_type": "code",
   "execution_count": null,
   "metadata": {
    "vscode": {
     "languageId": "sql"
    }
   },
   "outputs": [],
   "source": [
    "--accounts.sql--\n",
    "\n",
    "{{ config(\n",
    "    materialized = 'table',\n",
    ")}}\n",
    "\n",
    "SELECT\n",
    "    cardtype,\n",
    "    balance,\n",
    "    pointearned,\n",
    "    customerid\n",
    "FROM {{ source(\"raw\", \"raw_banking\") }}"
   ]
  },
  {
   "cell_type": "markdown",
   "metadata": {},
   "source": [
    "![customers](./screenshots/customers.png)"
   ]
  },
  {
   "cell_type": "markdown",
   "metadata": {},
   "source": [
    "![accounts](./screenshots/accounts.png)"
   ]
  },
  {
   "cell_type": "markdown",
   "metadata": {},
   "source": [
    "### Summary Tables\n",
    "\n",
    "Now, I will create a few summary tables by aggregating facts in order to gain insights into the data. \n",
    "\n",
    "These tables will be designed  to answer the client questions.\n",
    "\n",
    "1. How much money does the bank have? Add all customer balances."
   ]
  },
  {
   "cell_type": "code",
   "execution_count": null,
   "metadata": {
    "vscode": {
     "languageId": "sql"
    }
   },
   "outputs": [],
   "source": [
    "SELECT SUM(balance) AS total_balance \n",
    "FROM {{ ref('accounts') }}"
   ]
  },
  {
   "cell_type": "markdown",
   "metadata": {},
   "source": [
    "![total_balance](./screenshots/total_balance.png)"
   ]
  },
  {
   "cell_type": "markdown",
   "metadata": {},
   "source": [
    "2. How much money do our customers make, check the estimate salary field."
   ]
  },
  {
   "cell_type": "code",
   "execution_count": null,
   "metadata": {
    "vscode": {
     "languageId": "sql"
    }
   },
   "outputs": [],
   "source": [
    "SELECT SUM(estimatedsalary) AS total_estimated_salaries\n",
    "FROM {{ ref('customers') }}"
   ]
  },
  {
   "cell_type": "markdown",
   "metadata": {},
   "source": [
    "![total_salaries](./screenshots/total_salaries.png)"
   ]
  },
  {
   "cell_type": "markdown",
   "metadata": {},
   "source": [
    "3. Most popular card."
   ]
  },
  {
   "cell_type": "code",
   "execution_count": null,
   "metadata": {
    "vscode": {
     "languageId": "sql"
    }
   },
   "outputs": [],
   "source": [
    "SELECT \n",
    "    COUNT(*) AS amount_of_cardtype,\n",
    "    cardtype\n",
    "FROM {{ ref('accounts') }}\n",
    "GROUP BY cardtype"
   ]
  },
  {
   "cell_type": "markdown",
   "metadata": {},
   "source": [
    "![most_popular_cardtype](./screenshots/popular_cardtype.png)"
   ]
  },
  {
   "cell_type": "markdown",
   "metadata": {},
   "source": [
    "4. Figure out how to identify richer or poorer customers and which card type they have."
   ]
  },
  {
   "cell_type": "code",
   "execution_count": null,
   "metadata": {
    "vscode": {
     "languageId": "sql"
    }
   },
   "outputs": [],
   "source": [
    "SELECT \n",
    "    accounts.cardtype,\n",
    "    ROUND(AVG(customers.estimatedsalary), 2) AS avg_customer_salary\n",
    "FROM {{ ref('accounts') }}\n",
    "JOIN {{ ref('customers') }} ON accounts.customerid = customers.customerid\n",
    "GROUP BY cardtype"
   ]
  },
  {
   "cell_type": "markdown",
   "metadata": {},
   "source": [
    "![cardtype_vs_salary](./screenshots/cardtype_avg_salary.png)"
   ]
  },
  {
   "cell_type": "markdown",
   "metadata": {},
   "source": [
    "5. Credit score, balance, satisfaction by country."
   ]
  },
  {
   "cell_type": "code",
   "execution_count": null,
   "metadata": {
    "vscode": {
     "languageId": "sql"
    }
   },
   "outputs": [],
   "source": [
    "SELECT \n",
    "    SUM(accounts.balance) AS total_balance,\n",
    "    customers.geography,\n",
    "    ROUND(AVG(customers.creditscore), 2) AS avg_credit_score,\n",
    "    ROUND(AVG(customers.satisfactionscore), 4) AS avg_satisfactionscore\n",
    "FROM {{ ref('accounts') }}\n",
    "JOIN {{ ref('customers') }} ON accounts.customerid = customers.customerid\n",
    "GROUP BY customers.geography"
   ]
  },
  {
   "cell_type": "markdown",
   "metadata": {},
   "source": [
    "![creditscore_balance_ctry](./screenshots/creditscore.png)"
   ]
  },
  {
   "cell_type": "markdown",
   "metadata": {},
   "source": [
    "Explore the data yourself and try to add some metrics and graphs of your own.\n",
    "\n",
    "- customer satisfaction score vs number of products"
   ]
  },
  {
   "cell_type": "code",
   "execution_count": null,
   "metadata": {
    "vscode": {
     "languageId": "sql"
    }
   },
   "outputs": [],
   "source": [
    "SELECT \n",
    "    numofproducts,\n",
    "    ROUND(AVG(satisfactionscore), 1) AS avg_satisfactionscore\n",
    "FROM {{ ref('customers') }}\n",
    "GROUP BY numofproducts"
   ]
  },
  {
   "cell_type": "markdown",
   "metadata": {},
   "source": [
    "![satisfaction](./screenshots/satisfaction.png)"
   ]
  },
  {
   "cell_type": "markdown",
   "metadata": {},
   "source": [
    "- number of customers and total balance per country"
   ]
  },
  {
   "cell_type": "code",
   "execution_count": null,
   "metadata": {
    "vscode": {
     "languageId": "sql"
    }
   },
   "outputs": [],
   "source": [
    "SELECT \n",
    "    SUM(accounts.balance) AS total_balance,\n",
    "    customers.geography AS country,\n",
    "    COUNT(customers) AS customer_count\n",
    "FROM {{ ref('accounts') }}\n",
    "JOIN {{ ref('customers') }} ON accounts.customerid = customers.customerid\n",
    "GROUP BY customers.geography"
   ]
  },
  {
   "cell_type": "markdown",
   "metadata": {},
   "source": [
    "![customers_by_ctry](./screenshots/customer_by_ctry.png)"
   ]
  },
  {
   "cell_type": "markdown",
   "metadata": {},
   "source": [
    "- customer's who complained vs those who closed their accounts vs avg age"
   ]
  },
  {
   "cell_type": "code",
   "execution_count": null,
   "metadata": {
    "vscode": {
     "languageId": "sql"
    }
   },
   "outputs": [],
   "source": [
    "SELECT \n",
    "    ROUND(AVG(age), 1) AS avg_age,\n",
    "    complain, \n",
    "    exited\n",
    "FROM {{ ref('customers') }}\n",
    "GROUP BY complain, exited"
   ]
  },
  {
   "cell_type": "markdown",
   "metadata": {},
   "source": [
    "![complaints](./screenshots/complaints.png)"
   ]
  },
  {
   "cell_type": "markdown",
   "metadata": {},
   "source": [
    "## Metrics Dashboard\n",
    "\n",
    "Metrics dashboard created using Metabase:"
   ]
  },
  {
   "cell_type": "markdown",
   "metadata": {},
   "source": [
    "![bank_dashboard](./screenshots/bank_dashboard2.png)"
   ]
  }
 ],
 "metadata": {
  "language_info": {
   "name": "python"
  },
  "orig_nbformat": 4
 },
 "nbformat": 4,
 "nbformat_minor": 2
}
